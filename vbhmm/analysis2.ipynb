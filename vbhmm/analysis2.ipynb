{
 "cells": [
  {
   "cell_type": "code",
   "execution_count": null,
   "metadata": {
    "tags": [
     "parameters"
    ]
   },
   "outputs": [],
   "source": [
    "num_samples = 20\n",
    "interval = 33.0e-3\n",
    "seed = 123\n",
    "threshold = 6.0"
   ]
  },
  {
   "cell_type": "code",
   "execution_count": null,
   "metadata": {},
   "outputs": [],
   "source": [
    "import pathlib\n",
    "inputpath = pathlib.Path(\"./artifacts\")\n",
    "artifacts = pathlib.Path(\"./artifacts\")\n",
    "artifacts.mkdir(parents=True, exist_ok=True)"
   ]
  },
  {
   "cell_type": "code",
   "execution_count": null,
   "metadata": {},
   "outputs": [],
   "source": [
    "import scopyon\n",
    "config = scopyon.Configuration(filename=inputpath / \"config.yaml\")\n",
    "pixel_length = config.default.detector.pixel_length / config.default.magnification"
   ]
  },
  {
   "cell_type": "code",
   "execution_count": null,
   "metadata": {},
   "outputs": [],
   "source": [
    "import numpy"
   ]
  },
  {
   "cell_type": "code",
   "execution_count": null,
   "metadata": {},
   "outputs": [],
   "source": [
    "def trace_spots(spots, threshold=numpy.inf, ndim=2):\n",
    "    observation_vec = []\n",
    "    lengths = []\n",
    "    for i in range(len(spots[0])):\n",
    "        iprev = i\n",
    "        for j in range(1, len(spots)):\n",
    "            displacements = numpy.power(spots[j][:, : ndim] - spots[j - 1][iprev, : ndim], 2).sum(axis=1)\n",
    "            inext = displacements.argmin()\n",
    "            displacement = numpy.sqrt(displacements[inext])\n",
    "            if displacement > threshold:\n",
    "                if j > 1:\n",
    "                    lengths.append(j - 1)\n",
    "                break\n",
    "            intensity = spots[j - 1][iprev, ndim]\n",
    "            observation_vec.append([displacement, intensity])\n",
    "            iprev = inext\n",
    "        else:\n",
    "            lengths.append(len(spots) - 1)\n",
    "    return observation_vec, lengths"
   ]
  },
  {
   "cell_type": "code",
   "execution_count": null,
   "metadata": {},
   "outputs": [],
   "source": [
    "observation_vec = []\n",
    "lengths = []\n",
    "ndim = 2\n",
    "for i in range(num_samples):\n",
    "    spots_ = numpy.load(inputpath / f\"spots{i:03d}.npy\")\n",
    "    t = spots_[0, 0]\n",
    "    spots = [[spots_[0, 1: ]]]\n",
    "    for row in spots_[1: ]:\n",
    "        if row[0] == t:\n",
    "            spots[-1].append(row[1: ])\n",
    "        else:\n",
    "            t = row[0]\n",
    "            spots[-1] = numpy.asarray(spots[-1])\n",
    "            spots.append([row[1: ]])\n",
    "    else:\n",
    "        spots[-1] = numpy.asarray(spots[-1])\n",
    "    # print(spots)\n",
    "\n",
    "    observation_vec_, lengths_ = trace_spots(spots, threshold=threshold, ndim=ndim)\n",
    "    observation_vec.extend(observation_vec_)\n",
    "    lengths.extend(lengths_)\n",
    "observation_vec = numpy.array(observation_vec)"
   ]
  },
  {
   "cell_type": "code",
   "execution_count": null,
   "metadata": {},
   "outputs": [],
   "source": [
    "print(len(lengths), sum(lengths))"
   ]
  },
  {
   "cell_type": "code",
   "execution_count": null,
   "metadata": {},
   "outputs": [],
   "source": [
    "import plotly.graph_objects as go\n",
    "from plotly.subplots import make_subplots"
   ]
  },
  {
   "cell_type": "code",
   "execution_count": null,
   "metadata": {},
   "outputs": [],
   "source": [
    "fig = make_subplots(rows=1, cols=2, subplot_titles=['Square Displacement', 'Intensity'])\n",
    "\n",
    "fig.add_trace(go.Histogram(x=observation_vec[:, 0], nbinsx=30, histnorm='probability'), row=1, col=1)\n",
    "\n",
    "fig.add_trace(go.Histogram(x=observation_vec[:, 1], nbinsx=30, histnorm='probability'), row=1, col=2)\n",
    "\n",
    "fig.update_layout(barmode='overlay')\n",
    "fig.update_traces(opacity=0.75, showlegend=False)\n",
    "fig.show()"
   ]
  },
  {
   "cell_type": "code",
   "execution_count": null,
   "metadata": {},
   "outputs": [],
   "source": []
  },
  {
   "cell_type": "code",
   "execution_count": null,
   "metadata": {},
   "outputs": [],
   "source": [
    "from scopyon.analysis import PTHMM"
   ]
  },
  {
   "cell_type": "code",
   "execution_count": null,
   "metadata": {},
   "outputs": [],
   "source": [
    "rng = numpy.random.RandomState(seed)"
   ]
  },
  {
   "cell_type": "code",
   "execution_count": null,
   "metadata": {},
   "outputs": [],
   "source": [
    "model = PTHMM(n_diffusivities=3, n_oligomers=1, n_iter=100, random_state=rng)\n",
    "model.fit(observation_vec, lengths)"
   ]
  },
  {
   "cell_type": "code",
   "execution_count": null,
   "metadata": {},
   "outputs": [],
   "source": [
    "print(\"diffusivities=\\n\", model.diffusivities_)\n",
    "print(\"D=\\n\", pixel_length ** 2 * model.diffusivities_ / interval / 1e-12)"
   ]
  },
  {
   "cell_type": "code",
   "execution_count": null,
   "metadata": {},
   "outputs": [],
   "source": [
    "print(\"intensity_means=\", model.intensity_means_)\n",
    "print(\"intensity_vars=\", model.intensity_vars_)"
   ]
  },
  {
   "cell_type": "code",
   "execution_count": null,
   "metadata": {},
   "outputs": [],
   "source": [
    "print(\"startprob=\\n\", model.startprob_)"
   ]
  },
  {
   "cell_type": "code",
   "execution_count": null,
   "metadata": {},
   "outputs": [],
   "source": [
    "P = model.transmat_\n",
    "k = -numpy.log(1 - P) / interval\n",
    "k.ravel()[:: k.shape[0] + 1] = 0.0\n",
    "print(\"transmat=\\n\", model.transmat_)\n",
    "print(\"state_transition_matrix=\\n\", k)"
   ]
  },
  {
   "cell_type": "code",
   "execution_count": null,
   "metadata": {},
   "outputs": [],
   "source": [
    "expected_vec = numpy.zeros((sum(lengths), 2), dtype=observation_vec.dtype)\n",
    "for i in range(len(lengths)):\n",
    "    X_, Z_ = model.sample(lengths[i])\n",
    "    expected_vec[sum(lengths[: i]): sum(lengths[: i + 1])] = X_"
   ]
  },
  {
   "cell_type": "code",
   "execution_count": null,
   "metadata": {},
   "outputs": [],
   "source": [
    "fig = make_subplots(rows=1, cols=2, subplot_titles=['Square Displacement', 'Intensity'])\n",
    "\n",
    "fig.add_trace(go.Histogram(x=observation_vec[:, 0], nbinsx=30, histnorm='probability density'), row=1, col=1)\n",
    "fig.add_trace(go.Histogram(x=expected_vec[:, 0], nbinsx=30, histnorm='probability density'), row=1, col=1)\n",
    "\n",
    "fig.add_trace(go.Histogram(x=observation_vec[:, 1], nbinsx=30, histnorm='probability density'), row=1, col=2)\n",
    "fig.add_trace(go.Histogram(x=expected_vec[:, 1], nbinsx=30, histnorm='probability density'), row=1, col=2)\n",
    "\n",
    "fig.update_layout(barmode='overlay')\n",
    "fig.update_traces(opacity=0.75, showlegend=False)\n",
    "fig.show()"
   ]
  }
 ],
 "metadata": {
  "celltoolbar": "Tags",
  "kernelspec": {
   "display_name": "Python 3",
   "language": "python",
   "name": "python3"
  },
  "language_info": {
   "codemirror_mode": {
    "name": "ipython",
    "version": 3
   },
   "file_extension": ".py",
   "mimetype": "text/x-python",
   "name": "python",
   "nbconvert_exporter": "python",
   "pygments_lexer": "ipython3",
   "version": "3.7.5"
  }
 },
 "nbformat": 4,
 "nbformat_minor": 4
}
