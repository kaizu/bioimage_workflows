{
 "cells": [
  {
   "cell_type": "code",
   "execution_count": 8,
   "metadata": {
    "tags": [
     "parameters"
    ]
   },
   "outputs": [],
   "source": [
    "num_samples = 3\n",
    "interval = 33.0e-3\n",
    "num_frames = 100\n",
    "min_sigma = 1\n",
    "max_sigma = 4\n",
    "threshold = 50.0\n",
    "overlap = 0.5"
   ]
  },
  {
   "cell_type": "code",
   "execution_count": 9,
   "metadata": {},
   "outputs": [],
   "source": [
    "nproc = 20"
   ]
  },
  {
   "cell_type": "code",
   "execution_count": 10,
   "metadata": {},
   "outputs": [],
   "source": [
    "import numpy\n",
    "timepoints = numpy.linspace(0, interval * num_frames, num_frames + 1)"
   ]
  },
  {
   "cell_type": "code",
   "execution_count": 11,
   "metadata": {},
   "outputs": [],
   "source": [
    "import pathlib\n",
    "inputpath = pathlib.Path(\"./artifacts\")\n",
    "artifacts = pathlib.Path(\"./artifacts\")\n",
    "artifacts.mkdir(parents=True, exist_ok=True)"
   ]
  },
  {
   "cell_type": "code",
   "execution_count": 12,
   "metadata": {},
   "outputs": [],
   "source": [
    "import scopyon"
   ]
  },
  {
   "cell_type": "code",
   "execution_count": 13,
   "metadata": {},
   "outputs": [
    {
     "name": "stdout",
     "output_type": "stream",
     "text": [
      "19194 spots are detected in 150 frames.\n",
      "18663 spots are detected in 150 frames.\n",
      "18457 spots are detected in 150 frames.\n"
     ]
    }
   ],
   "source": [
    "import warnings\n",
    "warnings.simplefilter('ignore', RuntimeWarning)\n",
    "\n",
    "for i in range(num_samples):\n",
    "    imgs = [scopyon.Image(data) for data in numpy.load(inputpath / f\"images{i:03d}.npy\")]\n",
    "    spots = [\n",
    "        scopyon.analysis.spot_detection(\n",
    "            img.as_array(), processes=nproc,\n",
    "            min_sigma=min_sigma, max_sigma=max_sigma, threshold=threshold, overlap=overlap)\n",
    "        for img in imgs]\n",
    "\n",
    "    spots_ = []\n",
    "    for t, data in zip(timepoints, spots):\n",
    "        spots_.extend(([t] + list(row) for row in data))\n",
    "    spots_ = numpy.array(spots_)\n",
    "    numpy.save(artifacts / f\"spots{i:03d}.npy\", spots_)\n",
    "    \n",
    "    print(\"{} spots are detected in {} frames.\".format(len(spots_), len(imgs)))\n",
    "\n",
    "warnings.resetwarnings()"
   ]
  },
  {
   "cell_type": "code",
   "execution_count": 14,
   "metadata": {},
   "outputs": [
    {
     "name": "stdout",
     "output_type": "stream",
     "text": [
      "analysis1.ipynb  images011.npy\timages025.npy  inputs009.npy  inputs023.npy\r\n",
      "analysis2.ipynb  images012.npy\timages026.npy  inputs010.npy  inputs024.npy\r\n",
      "config.yaml\t images013.npy\timages027.npy  inputs011.npy  inputs025.npy\r\n",
      "images000.npy\t images014.npy\timages028.npy  inputs012.npy  inputs026.npy\r\n",
      "images001.npy\t images015.npy\timages029.npy  inputs013.npy  inputs027.npy\r\n",
      "images002.npy\t images016.npy\tinputs000.npy  inputs014.npy  inputs028.npy\r\n",
      "images003.npy\t images017.npy\tinputs001.npy  inputs015.npy  inputs029.npy\r\n",
      "images004.npy\t images018.npy\tinputs002.npy  inputs016.npy  spots000.npy\r\n",
      "images005.npy\t images019.npy\tinputs003.npy  inputs017.npy  spots001.npy\r\n",
      "images006.npy\t images020.npy\tinputs004.npy  inputs018.npy  spots002.npy\r\n",
      "images007.npy\t images021.npy\tinputs005.npy  inputs019.npy\r\n",
      "images008.npy\t images022.npy\tinputs006.npy  inputs020.npy\r\n",
      "images009.npy\t images023.npy\tinputs007.npy  inputs021.npy\r\n",
      "images010.npy\t images024.npy\tinputs008.npy  inputs022.npy\r\n"
     ]
    }
   ],
   "source": [
    "!ls ./artifacts"
   ]
  }
 ],
 "metadata": {
  "celltoolbar": "Tags",
  "kernelspec": {
   "display_name": "Python 3",
   "language": "python",
   "name": "python3"
  },
  "language_info": {
   "codemirror_mode": {
    "name": "ipython",
    "version": 3
   },
   "file_extension": ".py",
   "mimetype": "text/x-python",
   "name": "python",
   "nbconvert_exporter": "python",
   "pygments_lexer": "ipython3",
   "version": "3.7.5"
  }
 },
 "nbformat": 4,
 "nbformat_minor": 4
}
