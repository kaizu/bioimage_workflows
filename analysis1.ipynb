{
 "cells": [
  {
   "cell_type": "code",
   "execution_count": 1,
   "metadata": {
    "tags": [
     "parameters"
    ]
   },
   "outputs": [],
   "source": [
    "num_samples = 3\n",
    "interval = 33.0e-3\n",
    "num_frames = 100\n",
    "min_sigma = 1\n",
    "max_sigma = 4\n",
    "threshold = 50.0\n",
    "overlap = 0.5"
   ]
  },
  {
   "cell_type": "code",
   "execution_count": 2,
   "metadata": {},
   "outputs": [],
   "source": [
    "nproc = 20"
   ]
  },
  {
   "cell_type": "code",
   "execution_count": 3,
   "metadata": {},
   "outputs": [],
   "source": [
    "import numpy\n",
    "timepoints = numpy.linspace(0, interval * num_frames, num_frames + 1)"
   ]
  },
  {
   "cell_type": "code",
   "execution_count": 4,
   "metadata": {},
   "outputs": [],
   "source": [
    "import pathlib\n",
    "inputpath = pathlib.Path(\"./artifacts\")\n",
    "artifacts = pathlib.Path(\"./artifacts\")\n",
    "artifacts.mkdir(parents=True, exist_ok=True)"
   ]
  },
  {
   "cell_type": "code",
   "execution_count": 5,
   "metadata": {},
   "outputs": [],
   "source": [
    "import scopyon"
   ]
  },
  {
   "cell_type": "code",
   "execution_count": 6,
   "metadata": {},
   "outputs": [
    {
     "name": "stdout",
     "output_type": "stream",
     "text": [
      "19602 spots are detected in 100 frames.\n",
      "19125 spots are detected in 100 frames.\n",
      "19068 spots are detected in 100 frames.\n"
     ]
    }
   ],
   "source": [
    "import warnings\n",
    "warnings.simplefilter('ignore', RuntimeWarning)\n",
    "\n",
    "for i in range(num_samples):\n",
    "    imgs = [scopyon.Image(data) for data in numpy.load(inputpath / f\"images{i:03d}.npy\")]\n",
    "    spots = [\n",
    "        scopyon.analysis.spot_detection(\n",
    "            img.as_array(), processes=nproc,\n",
    "            min_sigma=min_sigma, max_sigma=max_sigma, threshold=threshold, overlap=overlap)\n",
    "        for img in imgs]\n",
    "\n",
    "    spots_ = []\n",
    "    for t, data in zip(timepoints, spots):\n",
    "        spots_.extend(([t] + list(row) for row in data))\n",
    "    spots_ = numpy.array(spots_)\n",
    "    numpy.save(artifacts / f\"spots{i:03d}.npy\", spots_)\n",
    "    \n",
    "    print(\"{} spots are detected in {} frames.\".format(len(spots_), len(imgs)))\n",
    "\n",
    "warnings.resetwarnings()"
   ]
  },
  {
   "cell_type": "code",
   "execution_count": 7,
   "metadata": {},
   "outputs": [
    {
     "name": "stdout",
     "output_type": "stream",
     "text": [
      "config.yaml    images001.npy  inputs000.npy  inputs002.npy  spots001.npy\r\n",
      "images000.npy  images002.npy  inputs001.npy  spots000.npy   spots002.npy\r\n"
     ]
    }
   ],
   "source": [
    "!ls ./artifacts"
   ]
  }
 ],
 "metadata": {
  "celltoolbar": "Tags",
  "kernelspec": {
   "display_name": "Python 3",
   "language": "python",
   "name": "python3"
  },
  "language_info": {
   "codemirror_mode": {
    "name": "ipython",
    "version": 3
   },
   "file_extension": ".py",
   "mimetype": "text/x-python",
   "name": "python",
   "nbconvert_exporter": "python",
   "pygments_lexer": "ipython3",
   "version": "3.7.5"
  }
 },
 "nbformat": 4,
 "nbformat_minor": 4
}
